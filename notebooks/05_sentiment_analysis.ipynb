{
 "cells": [
  {
   "cell_type": "markdown",
   "id": "5612def9-65c7-4b44-a2be-90522d1ea6ea",
   "metadata": {},
   "source": [
    "# Sentiment Analysis \n",
    "___\n",
    "\n",
    "In ths section, we will be looking at the review text data for the specific listings. \n",
    "\n",
    "## Why Sentiment Analysis Matters\n",
    "\n",
    "Sentiment analysis is crucial in the context of Airbnb reviews for several reasons. Sentiment analysis allows us to gauge the sentiment expressed in reviews, helping Airbnb hosts understand the overall satisfaction levels of guests. Furthermoe, by analyzing sentiment, we can pinpoint specific aspects of the guest experience that may need improvement, such as cleanliness, amenities, or communication, based on recurring positive or negative sentiments in reviews. Sentiment analysis provides actionable insights for Airbnb hosts and managers, guiding decisions related to property management, customer service, and marketing strategies.\n",
    "\n",
    "## Objectives\n",
    "\n",
    "In this analysis, our main objectives are:\n",
    "\n",
    "**Sentiment Classification:** Classify Airbnb reviews into positive, negative, or neutral sentiments to understand the overall sentiment distribution and identify trends.\n",
    "  \n",
    "**Trend Analysis:** Identify temporal trends in sentiment over time to understand how guest satisfaction levels fluctuate seasonally or in response to changes in the property or service offerings.\n"
   ]
  },
  {
   "cell_type": "code",
   "execution_count": 2,
   "id": "71797f89-bbed-4797-a1dd-094f83b9b1d4",
   "metadata": {},
   "outputs": [],
   "source": [
    "import pandas as pd\n",
    "import matplotlib.pyplot as plt\n",
    "from nltk.sentiment.vader import SentimentIntensityAnalyzer"
   ]
  },
  {
   "cell_type": "code",
   "execution_count": 3,
   "id": "1842e270-f8d0-4acb-b3e2-c4ae80a48775",
   "metadata": {},
   "outputs": [],
   "source": [
    "rev = pd.read_csv('../data/05_data.csv', low_memory = False)"
   ]
  },
  {
   "cell_type": "code",
   "execution_count": 4,
   "id": "d97a11e7-b257-4672-9d4e-fffd9002151d",
   "metadata": {},
   "outputs": [],
   "source": [
    "rev.dropna(inplace = True)"
   ]
  },
  {
   "cell_type": "code",
   "execution_count": 5,
   "id": "367ad2cc-1661-483f-b47d-9d699e6a0387",
   "metadata": {},
   "outputs": [],
   "source": [
    "# This function takes the preprocessed column of text review data and assigns a numeric value indicating sentiment\n",
    "\n",
    "# Initialize VADER sentiment analyzer\n",
    "sid = SentimentIntensityAnalyzer()\n",
    "\n",
    "# Function to get sentiment score\n",
    "def get_sentiment_score(text):\n",
    "    # Get sentiment polarity scores from VADER\n",
    "    scores = sid.polarity_scores(text)\n",
    "    # Return compound score (overall sentiment)\n",
    "    return scores['compound']"
   ]
  },
  {
   "cell_type": "code",
   "execution_count": 6,
   "id": "575dc993-9299-444a-8481-23df8672fdac",
   "metadata": {},
   "outputs": [],
   "source": [
    "# Apply sentiment analysis to the 'preprocessed_review' column\n",
    "rev['sentiment_score'] = rev['preprocessed_review'].apply(get_sentiment_score)"
   ]
  },
  {
   "cell_type": "code",
   "execution_count": 7,
   "id": "aeaf002c-2c67-42c0-aabe-eadb4a6912eb",
   "metadata": {},
   "outputs": [
    {
     "data": {
      "image/png": "[encoded data removed]",
      "text/plain": [
       "<Figure size 576x432 with 1 Axes>"
      ]
     },
     "metadata": {
      "needs_background": "light"
     },
     "output_type": "display_data"
    }
   ],
   "source": [
    "# Let's see a histogram for the frequency of different scores\n",
    "\n",
    "plt.figure(figsize=(8, 6))\n",
    "plt.hist(rev['sentiment_score'], bins=10, color='blue')  \n",
    "plt.title('Distribution of Sentiment Scores')\n",
    "plt.xlabel('Sentiment Score')\n",
    "plt.ylabel('Frequency')\n",
    "plt.grid(True)\n",
    "plt.show()"
   ]
  },
  {
   "cell_type": "code",
   "execution_count": 8,
   "id": "a298967e-0819-4bed-bbb2-c2edffa6f263",
   "metadata": {},
   "outputs": [],
   "source": [
    "# We see that a large majority of reviews are closer to 1, meaning they are mostly positive"
   ]
  },
  {
   "cell_type": "code",
   "execution_count": 1,
   "id": "d3922eaf-87ca-43e8-9355-646dbcd28cf0",
   "metadata": {},
   "outputs": [
    {
     "ename": "NameError",
     "evalue": "name 'rev' is not defined",
     "output_type": "error",
     "traceback": [
      "\u001b[0;31m---------------------------------------------------------------------------\u001b[0m",
      "\u001b[0;31mNameError\u001b[0m                                 Traceback (most recent call last)",
      "\u001b[0;32m<ipython-input-1-1a36e047b99c>\u001b[0m in \u001b[0;36m<module>\u001b[0;34m\u001b[0m\n\u001b[0;32m----> 1\u001b[0;31m \u001b[0mrev\u001b[0m\u001b[0;34m.\u001b[0m\u001b[0mhead\u001b[0m\u001b[0;34m(\u001b[0m\u001b[0;34m)\u001b[0m\u001b[0;34m\u001b[0m\u001b[0;34m\u001b[0m\u001b[0m\n\u001b[0m",
      "\u001b[0;31mNameError\u001b[0m: name 'rev' is not defined"
     ]
    }
   ],
   "source": [
    "rev.head()"
   ]
  },
  {
   "cell_type": "code",
   "execution_count": null,
   "id": "54972061-8618-427a-8034-dc8b5e1197ad",
   "metadata": {},
   "outputs": [],
   "source": []
  }
 ],
 "metadata": {
  "kernelspec": {
   "display_name": "Python 3",
   "language": "python",
   "name": "python3"
  },
  "language_info": {
   "codemirror_mode": {
    "name": "ipython",
    "version": 3
   },
   "file_extension": ".py",
   "mimetype": "text/x-python",
   "name": "python",
   "nbconvert_exporter": "python",
   "pygments_lexer": "ipython3",
   "version": "3.8.8"
  }
 },
 "nbformat": 4,
 "nbformat_minor": 5
}
