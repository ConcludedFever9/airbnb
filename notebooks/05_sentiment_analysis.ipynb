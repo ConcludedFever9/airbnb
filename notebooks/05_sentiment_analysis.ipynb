{
 "cells": [
  {
   "cell_type": "markdown",
   "id": "5612def9-65c7-4b44-a2be-90522d1ea6ea",
   "metadata": {},
   "source": [
    "# Sentiment Analysis \n",
    "___\n",
    "\n",
    "In ths section, we will be looking at the review text data for the specific listings. \n",
    "\n",
    "## Why Sentiment Analysis Matters\n",
    "\n",
    "Sentiment analysis is crucial in the context of Airbnb reviews for several reasons. Sentiment analysis allows us to gauge the sentiment expressed in reviews, helping Airbnb hosts understand the overall satisfaction levels of guests. Furthermoe, by analyzing sentiment, we can pinpoint specific aspects of the guest experience that may need improvement, such as cleanliness, amenities, or communication, based on recurring positive or negative sentiments in reviews. Sentiment analysis provides actionable insights for Airbnb hosts and managers, guiding decisions related to property management, customer service, and marketing strategies.\n",
    "\n",
    "## Objectives\n",
    "\n",
    "In this analysis, our main objectives are:\n",
    "\n",
    "**Sentiment Classification:** Classify Airbnb reviews into positive, negative, or neutral sentiments to understand the overall sentiment distribution and identify trends.\n",
    "  \n",
    "**Trend Analysis:** Identify temporal trends in sentiment over time to understand how guest satisfaction levels fluctuate seasonally or in response to changes in the property or service offerings.\n"
   ]
  },
  {
   "cell_type": "code",
   "execution_count": 1,
   "id": "71797f89-bbed-4797-a1dd-094f83b9b1d4",
   "metadata": {},
   "outputs": [],
   "source": [
    "import pandas as pd\n",
    "import matplotlib.pyplot as plt\n",
    "from nltk.sentiment.vader import SentimentIntensityAnalyzer"
   ]
  },
  {
   "cell_type": "code",
   "execution_count": 2,
   "id": "1842e270-f8d0-4acb-b3e2-c4ae80a48775",
   "metadata": {},
   "outputs": [],
   "source": [
    "rev = pd.read_csv('../data/05_data.csv', low_memory = False)"
   ]
  },
  {
   "cell_type": "code",
   "execution_count": 3,
   "id": "d97a11e7-b257-4672-9d4e-fffd9002151d",
   "metadata": {},
   "outputs": [],
   "source": [
    "rev.dropna(inplace = True)"
   ]
  },
  {
   "cell_type": "code",
   "execution_count": 4,
   "id": "367ad2cc-1661-483f-b47d-9d699e6a0387",
   "metadata": {},
   "outputs": [],
   "source": [
    "# This function takes the preprocessed column of text review data and assigns a numeric value indicating sentiment\n",
    "\n",
    "# Initialize VADER sentiment analyzer\n",
    "sid = SentimentIntensityAnalyzer()\n",
    "\n",
    "# Function to get sentiment score\n",
    "def get_sentiment_score(text):\n",
    "    # Get sentiment polarity scores from VADER\n",
    "    scores = sid.polarity_scores(text)\n",
    "    # Return compound score (overall sentiment)\n",
    "    return scores['compound']"
   ]
  },
  {
   "cell_type": "code",
   "execution_count": 5,
   "id": "575dc993-9299-444a-8481-23df8672fdac",
   "metadata": {},
   "outputs": [],
   "source": [
    "# Apply sentiment analysis to the 'preprocessed_review' column\n",
    "rev['sentiment_score'] = rev['preprocessed_review'].apply(get_sentiment_score)"
   ]
  },
  {
   "cell_type": "code",
   "execution_count": 7,
   "id": "aeaf002c-2c67-42c0-aabe-eadb4a6912eb",
   "metadata": {},
   "outputs": [
    {
     "data": {
      "image/png": "[encoded data removed]",
      "text/plain": [
       "<Figure size 576x432 with 1 Axes>"
      ]
     },
     "metadata": {
      "needs_background": "light"
     },
     "output_type": "display_data"
    }
   ],
   "source": [
    "# Let's see a histogram for the frequency of different scores\n",
    "\n",
    "plt.figure(figsize=(8, 6))\n",
    "plt.hist(rev['sentiment_score'], bins=10, color='blue')  \n",
    "plt.title('Distribution of Sentiment Scores')\n",
    "plt.xlabel('Sentiment Score')\n",
    "plt.ylabel('Frequency')\n",
    "plt.savefig('../images/sentiment_dist.jpg')"
   ]
  },
  {
   "cell_type": "code",
   "execution_count": 15,
   "id": "a298967e-0819-4bed-bbb2-c2edffa6f263",
   "metadata": {},
   "outputs": [],
   "source": [
    "# We see that a large majority of reviews are closer to 1, meaning they are mostly positive"
   ]
  },
  {
   "cell_type": "markdown",
   "id": "aaaec35d-18c2-4943-9dc2-9a9c103ded29",
   "metadata": {},
   "source": [
    "___\n",
    "# Conclusions\n",
    "\n",
    "After analyzing the sentiment scores of reviews for places in Berlin, it is evident that there is a prevalent trend of positive sentiment among reviewers.\n",
    "\n",
    "Several factors may contribute to the consistently high sentiment scores observed in Berlin's reviews. The city's rich history, vibrant culture, diverse culinary scene, and abundance of attractions likely play a significant role in shaping positive perceptions among visitors and locals alike. Additionally, Berlin's reputation as a dynamic and welcoming city may contribute to the overall positive sentiment reflected in reviews. Anecdotally, I can tell you that this city is amazing.\n",
    "\n",
    "Overall, the consistently high sentiment scores for reviews of places in Berlin underscore the city's appeal as a desirable destination with a wealth of experiences to offer. By maintaining and enhancing the quality of services and experiences, Berlin can continue to cultivate positive sentiments among visitors and residents, further solidifying its position as a leading global destination."
   ]
  }
 ],
 "metadata": {
  "kernelspec": {
   "display_name": "Python 3",
   "language": "python",
   "name": "python3"
  },
  "language_info": {
   "codemirror_mode": {
    "name": "ipython",
    "version": 3
   },
   "file_extension": ".py",
   "mimetype": "text/x-python",
   "name": "python",
   "nbconvert_exporter": "python",
   "pygments_lexer": "ipython3",
   "version": "3.8.8"
  }
 },
 "nbformat": 4,
 "nbformat_minor": 5
}
