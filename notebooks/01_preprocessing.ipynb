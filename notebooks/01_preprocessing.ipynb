{
 "cells": [
  {
   "cell_type": "markdown",
   "id": "0495bd17-32d2-48a8-8954-9647e66e708c",
   "metadata": {},
   "source": [
    "# Preprocessing\n",
    "___"
   ]
  },
  {
   "cell_type": "code",
   "execution_count": 68,
   "id": "acebd6e7-bad7-4157-ba1a-e8cee7af9d5e",
   "metadata": {},
   "outputs": [],
   "source": [
    "import pandas as pd\n",
    "import warnings\n",
    "from pandas.errors import SettingWithCopyWarning\n",
    "warnings.simplefilter(action='ignore', category=(SettingWithCopyWarning))\n",
    "import string\n",
    "import nltk\n",
    "from nltk.tokenize import word_tokenize\n",
    "from nltk.corpus import stopwords\n",
    "from nltk.stem import PorterStemmer"
   ]
  },
  {
   "cell_type": "markdown",
   "id": "0cc1a52a-33e3-4f5e-9fdd-e5506bf1a5d0",
   "metadata": {},
   "source": [
    "___\n",
    "# Data Imports\n",
    "We will import the listings, reviews and calendar data"
   ]
  },
  {
   "cell_type": "code",
   "execution_count": 69,
   "id": "50b76e94-0a5e-4027-bb51-bf6d90173c5d",
   "metadata": {},
   "outputs": [],
   "source": [
    "df1 = pd.read_csv('../data/listings.csv.gz', compression = 'gzip')\n",
    "df1.to_csv('../data/listings.csv')"
   ]
  },
  {
   "cell_type": "code",
   "execution_count": 70,
   "id": "699347c7-d7e7-43d8-955a-2e1e6c09db53",
   "metadata": {},
   "outputs": [],
   "source": [
    "df2 = pd.read_csv('../data/reviews.csv.gz', compression = 'gzip')\n",
    "df2.to_csv('../data/reviews.csv')"
   ]
  },
  {
   "cell_type": "code",
   "execution_count": 71,
   "id": "10b5a5cc-309c-454b-96c3-32409564341d",
   "metadata": {},
   "outputs": [],
   "source": [
    "df3 = pd.read_csv('../data/calendar.csv.gz', compression = 'gzip')\n",
    "df3.to_csv('../data/calendar.csv')"
   ]
  },
  {
   "cell_type": "markdown",
   "id": "f9bd8832-e1ef-4b0c-9342-86c8a6b14d7f",
   "metadata": {},
   "source": [
    "___\n",
    "# Preprocessing"
   ]
  },
  {
   "cell_type": "code",
   "execution_count": 72,
   "id": "e82d0261-35ba-4b7e-8a2e-3da9f7f27366",
   "metadata": {},
   "outputs": [
    {
     "data": {
      "text/plain": [
       "(13327, 75)"
      ]
     },
     "execution_count": 72,
     "metadata": {},
     "output_type": "execute_result"
    }
   ],
   "source": [
    "# Check the shape first to see how much data we can reasonably drop \n",
    "df1.shape"
   ]
  },
  {
   "cell_type": "code",
   "execution_count": 73,
   "id": "0c79d746-32d8-4afa-a281-cea0c2fbc27c",
   "metadata": {},
   "outputs": [
    {
     "name": "stdout",
     "output_type": "stream",
     "text": [
      "    Null Values Data Type                                   Column Name\n",
      "0             0     int64                                            id\n",
      "1             0    object                                   listing_url\n",
      "2             0     int64                                     scrape_id\n",
      "3             0    object                                  last_scraped\n",
      "4             0    object                                        source\n",
      "..          ...       ...                                           ...\n",
      "70            0     int64                calculated_host_listings_count\n",
      "71            0     int64   calculated_host_listings_count_entire_homes\n",
      "72            0     int64  calculated_host_listings_count_private_rooms\n",
      "73            0     int64   calculated_host_listings_count_shared_rooms\n",
      "74         3000   float64                             reviews_per_month\n",
      "\n",
      "[75 rows x 3 columns]\n"
     ]
    }
   ],
   "source": [
    "# Here is more null value and dtype information\n",
    "# This will aid in the choosing of predictor variables for a linear regression\n",
    "\n",
    "null_info = pd.concat([df1.isnull().sum(), df1.dtypes], axis=1)\n",
    "null_info.columns = ['Null Values', 'Data Type']\n",
    "null_info['Column Name'] = null_info.index\n",
    "null_info.reset_index(drop=True, inplace=True)\n",
    "\n",
    "print(null_info)"
   ]
  },
  {
   "cell_type": "code",
   "execution_count": 74,
   "id": "626db32d-f518-4281-a3a5-16e6981d73a6",
   "metadata": {},
   "outputs": [
    {
     "data": {
      "text/html": [
       "<div>\n",
       "<style scoped>\n",
       "    .dataframe tbody tr th:only-of-type {\n",
       "        vertical-align: middle;\n",
       "    }\n",
       "\n",
       "    .dataframe tbody tr th {\n",
       "        vertical-align: top;\n",
       "    }\n",
       "\n",
       "    .dataframe thead th {\n",
       "        text-align: right;\n",
       "    }\n",
       "</style>\n",
       "<table border=\"1\" class=\"dataframe\">\n",
       "  <thead>\n",
       "    <tr style=\"text-align: right;\">\n",
       "      <th></th>\n",
       "      <th>id</th>\n",
       "      <th>listing_url</th>\n",
       "      <th>scrape_id</th>\n",
       "      <th>last_scraped</th>\n",
       "      <th>source</th>\n",
       "      <th>name</th>\n",
       "      <th>description</th>\n",
       "      <th>neighborhood_overview</th>\n",
       "      <th>picture_url</th>\n",
       "      <th>host_id</th>\n",
       "      <th>...</th>\n",
       "      <th>review_scores_communication</th>\n",
       "      <th>review_scores_location</th>\n",
       "      <th>review_scores_value</th>\n",
       "      <th>license</th>\n",
       "      <th>instant_bookable</th>\n",
       "      <th>calculated_host_listings_count</th>\n",
       "      <th>calculated_host_listings_count_entire_homes</th>\n",
       "      <th>calculated_host_listings_count_private_rooms</th>\n",
       "      <th>calculated_host_listings_count_shared_rooms</th>\n",
       "      <th>reviews_per_month</th>\n",
       "    </tr>\n",
       "  </thead>\n",
       "  <tbody>\n",
       "    <tr>\n",
       "      <th>0</th>\n",
       "      <td>3176</td>\n",
       "      <td>https://www.airbnb.com/rooms/3176</td>\n",
       "      <td>20231218233220</td>\n",
       "      <td>2023-12-19</td>\n",
       "      <td>previous scrape</td>\n",
       "      <td>Rental unit in Berlin · ★4.63 · 1 bedroom · 2 ...</td>\n",
       "      <td>NaN</td>\n",
       "      <td>The neighbourhood is famous for its variety of...</td>\n",
       "      <td>https://a0.muscache.com/pictures/243355/84afcf...</td>\n",
       "      <td>3718</td>\n",
       "      <td>...</td>\n",
       "      <td>4.69</td>\n",
       "      <td>4.92</td>\n",
       "      <td>4.62</td>\n",
       "      <td>First name and Last name: Nicolas Krotz &lt;br/&gt; ...</td>\n",
       "      <td>f</td>\n",
       "      <td>1</td>\n",
       "      <td>1</td>\n",
       "      <td>0</td>\n",
       "      <td>0</td>\n",
       "      <td>0.84</td>\n",
       "    </tr>\n",
       "    <tr>\n",
       "      <th>1</th>\n",
       "      <td>9991</td>\n",
       "      <td>https://www.airbnb.com/rooms/9991</td>\n",
       "      <td>20231218233220</td>\n",
       "      <td>2023-12-19</td>\n",
       "      <td>city scrape</td>\n",
       "      <td>Rental unit in Berlin · ★5.0 · 4 bedrooms · 7 ...</td>\n",
       "      <td>NaN</td>\n",
       "      <td>Prenzlauer Berg is an amazing neighbourhood wh...</td>\n",
       "      <td>https://a0.muscache.com/pictures/42799131/59c8...</td>\n",
       "      <td>33852</td>\n",
       "      <td>...</td>\n",
       "      <td>5.00</td>\n",
       "      <td>4.86</td>\n",
       "      <td>4.86</td>\n",
       "      <td>03/Z/RA/003410-18</td>\n",
       "      <td>f</td>\n",
       "      <td>1</td>\n",
       "      <td>1</td>\n",
       "      <td>0</td>\n",
       "      <td>0</td>\n",
       "      <td>0.07</td>\n",
       "    </tr>\n",
       "    <tr>\n",
       "      <th>2</th>\n",
       "      <td>183988</td>\n",
       "      <td>https://www.airbnb.com/rooms/183988</td>\n",
       "      <td>20231218233220</td>\n",
       "      <td>2023-12-19</td>\n",
       "      <td>city scrape</td>\n",
       "      <td>Rental unit in Berlin · ★4.69 · 1 bedroom · 2 ...</td>\n",
       "      <td>NaN</td>\n",
       "      <td>NaN</td>\n",
       "      <td>https://a0.muscache.com/pictures/1041e6fd-c369...</td>\n",
       "      <td>882801</td>\n",
       "      <td>...</td>\n",
       "      <td>4.79</td>\n",
       "      <td>4.72</td>\n",
       "      <td>4.62</td>\n",
       "      <td>04/Z/ZA/004232-16</td>\n",
       "      <td>f</td>\n",
       "      <td>1</td>\n",
       "      <td>1</td>\n",
       "      <td>0</td>\n",
       "      <td>0</td>\n",
       "      <td>3.92</td>\n",
       "    </tr>\n",
       "  </tbody>\n",
       "</table>\n",
       "<p>3 rows × 75 columns</p>\n",
       "</div>"
      ],
      "text/plain": [
       "       id                          listing_url       scrape_id last_scraped  \\\n",
       "0    3176    https://www.airbnb.com/rooms/3176  20231218233220   2023-12-19   \n",
       "1    9991    https://www.airbnb.com/rooms/9991  20231218233220   2023-12-19   \n",
       "2  183988  https://www.airbnb.com/rooms/183988  20231218233220   2023-12-19   \n",
       "\n",
       "            source                                               name  \\\n",
       "0  previous scrape  Rental unit in Berlin · ★4.63 · 1 bedroom · 2 ...   \n",
       "1      city scrape  Rental unit in Berlin · ★5.0 · 4 bedrooms · 7 ...   \n",
       "2      city scrape  Rental unit in Berlin · ★4.69 · 1 bedroom · 2 ...   \n",
       "\n",
       "   description                              neighborhood_overview  \\\n",
       "0          NaN  The neighbourhood is famous for its variety of...   \n",
       "1          NaN  Prenzlauer Berg is an amazing neighbourhood wh...   \n",
       "2          NaN                                                NaN   \n",
       "\n",
       "                                         picture_url  host_id  ...  \\\n",
       "0  https://a0.muscache.com/pictures/243355/84afcf...     3718  ...   \n",
       "1  https://a0.muscache.com/pictures/42799131/59c8...    33852  ...   \n",
       "2  https://a0.muscache.com/pictures/1041e6fd-c369...   882801  ...   \n",
       "\n",
       "  review_scores_communication review_scores_location review_scores_value  \\\n",
       "0                        4.69                   4.92                4.62   \n",
       "1                        5.00                   4.86                4.86   \n",
       "2                        4.79                   4.72                4.62   \n",
       "\n",
       "                                             license instant_bookable  \\\n",
       "0  First name and Last name: Nicolas Krotz <br/> ...                f   \n",
       "1                                  03/Z/RA/003410-18                f   \n",
       "2                                  04/Z/ZA/004232-16                f   \n",
       "\n",
       "  calculated_host_listings_count calculated_host_listings_count_entire_homes  \\\n",
       "0                              1                                           1   \n",
       "1                              1                                           1   \n",
       "2                              1                                           1   \n",
       "\n",
       "  calculated_host_listings_count_private_rooms  \\\n",
       "0                                            0   \n",
       "1                                            0   \n",
       "2                                            0   \n",
       "\n",
       "  calculated_host_listings_count_shared_rooms reviews_per_month  \n",
       "0                                           0              0.84  \n",
       "1                                           0              0.07  \n",
       "2                                           0              3.92  \n",
       "\n",
       "[3 rows x 75 columns]"
      ]
     },
     "execution_count": 74,
     "metadata": {},
     "output_type": "execute_result"
    }
   ],
   "source": [
    "# Many entries which should be numeric are object type \n",
    "# We see that it is because of inclusion of dollar signs and t/f instad of 1/0 booleans etc\n",
    "# We will clean this up later\n",
    "df1.head(3)"
   ]
  },
  {
   "cell_type": "code",
   "execution_count": 75,
   "id": "600f5dfa-d8b2-4200-841e-0c857ead5f34",
   "metadata": {},
   "outputs": [
    {
     "data": {
      "text/plain": [
       "host_response_time\n",
       "within an hour        5188\n",
       "within a few hours    1413\n",
       "within a day          1308\n",
       "a few days or more     366\n",
       "Name: count, dtype: int64"
      ]
     },
     "execution_count": 75,
     "metadata": {},
     "output_type": "execute_result"
    }
   ],
   "source": [
    "# Should we use host_response_time?\n",
    "# We will use ordinal encoder in the regression notebook for this \n",
    "df1['host_response_time'].value_counts()"
   ]
  },
  {
   "cell_type": "markdown",
   "id": "563e0b77-e0a0-4703-ba88-ab7f88240e66",
   "metadata": {},
   "source": [
    "___\n",
    "# Making Dataframe For Regression Modeling"
   ]
  },
  {
   "cell_type": "markdown",
   "id": "b0adf148-32dc-4bf5-9e17-6a9fbbf0dd39",
   "metadata": {},
   "source": [
    "Now that we have checked many things about the data, we can select which features to use in a linear regression model. This will consist of choosing the columns from df1 we want to use, cleaning them by dropping special characters such as dollar signs so as to render them numeric, removing commas, making t/f columns 0 or 1 etc.\n",
    "\n",
    "Using a priori knowledge of housing price, we can select the following predictors for price. Note that we also cross checked these choices with the null values table from above because, if there are too many, it will result in data loss.\n",
    "* price (the response variable)\n",
    "* host_response_time\n",
    "* host_response_rate\n",
    "* host_acceptance_rate\n",
    "* host_is_superhost\n",
    "* accommodates\n",
    "* beds\n",
    "* review_scores_rating\n",
    "* review_scores_accuracy\n",
    "* review_scores_cleanliness\n",
    "* review_scores_checkin\n",
    "* review_scores_communication\n",
    "* review_scores_location\n",
    "* review_scores_value"
   ]
  },
  {
   "cell_type": "code",
   "execution_count": 76,
   "id": "d6953b31-a8e4-4a76-87ea-f804df4e8dea",
   "metadata": {},
   "outputs": [],
   "source": [
    "df = df1[[\n",
    "    'price',\n",
    "    'host_response_time',\n",
    "    'host_response_rate',\n",
    "    'host_acceptance_rate',\n",
    "    'host_is_superhost',\n",
    "    'accommodates',\n",
    "    'beds',\n",
    "    'review_scores_rating',\n",
    "    'review_scores_accuracy',\n",
    "    'review_scores_cleanliness',\n",
    "    'review_scores_checkin',\n",
    "    'review_scores_communication',\n",
    "    'review_scores_location',\n",
    "    'review_scores_value'\n",
    "]]"
   ]
  },
  {
   "cell_type": "code",
   "execution_count": 77,
   "id": "6dafe92c-6f34-47a5-b611-ef55650854b0",
   "metadata": {},
   "outputs": [
    {
     "data": {
      "text/html": [
       "<div>\n",
       "<style scoped>\n",
       "    .dataframe tbody tr th:only-of-type {\n",
       "        vertical-align: middle;\n",
       "    }\n",
       "\n",
       "    .dataframe tbody tr th {\n",
       "        vertical-align: top;\n",
       "    }\n",
       "\n",
       "    .dataframe thead th {\n",
       "        text-align: right;\n",
       "    }\n",
       "</style>\n",
       "<table border=\"1\" class=\"dataframe\">\n",
       "  <thead>\n",
       "    <tr style=\"text-align: right;\">\n",
       "      <th></th>\n",
       "      <th>price</th>\n",
       "      <th>host_response_time</th>\n",
       "      <th>host_response_rate</th>\n",
       "      <th>host_acceptance_rate</th>\n",
       "      <th>host_is_superhost</th>\n",
       "      <th>accommodates</th>\n",
       "      <th>beds</th>\n",
       "      <th>review_scores_rating</th>\n",
       "      <th>review_scores_accuracy</th>\n",
       "      <th>review_scores_cleanliness</th>\n",
       "      <th>review_scores_checkin</th>\n",
       "      <th>review_scores_communication</th>\n",
       "      <th>review_scores_location</th>\n",
       "      <th>review_scores_value</th>\n",
       "    </tr>\n",
       "  </thead>\n",
       "  <tbody>\n",
       "    <tr>\n",
       "      <th>0</th>\n",
       "      <td>$83.00</td>\n",
       "      <td>within a day</td>\n",
       "      <td>100%</td>\n",
       "      <td>17%</td>\n",
       "      <td>f</td>\n",
       "      <td>4</td>\n",
       "      <td>2.0</td>\n",
       "      <td>4.63</td>\n",
       "      <td>4.67</td>\n",
       "      <td>4.52</td>\n",
       "      <td>4.64</td>\n",
       "      <td>4.69</td>\n",
       "      <td>4.92</td>\n",
       "      <td>4.62</td>\n",
       "    </tr>\n",
       "    <tr>\n",
       "      <th>1</th>\n",
       "      <td>$180.00</td>\n",
       "      <td>within a day</td>\n",
       "      <td>100%</td>\n",
       "      <td>NaN</td>\n",
       "      <td>f</td>\n",
       "      <td>7</td>\n",
       "      <td>7.0</td>\n",
       "      <td>5.00</td>\n",
       "      <td>5.00</td>\n",
       "      <td>5.00</td>\n",
       "      <td>5.00</td>\n",
       "      <td>5.00</td>\n",
       "      <td>4.86</td>\n",
       "      <td>4.86</td>\n",
       "    </tr>\n",
       "    <tr>\n",
       "      <th>2</th>\n",
       "      <td>$116.00</td>\n",
       "      <td>within a few hours</td>\n",
       "      <td>100%</td>\n",
       "      <td>99%</td>\n",
       "      <td>f</td>\n",
       "      <td>4</td>\n",
       "      <td>2.0</td>\n",
       "      <td>4.69</td>\n",
       "      <td>4.73</td>\n",
       "      <td>4.73</td>\n",
       "      <td>4.78</td>\n",
       "      <td>4.79</td>\n",
       "      <td>4.72</td>\n",
       "      <td>4.62</td>\n",
       "    </tr>\n",
       "    <tr>\n",
       "      <th>3</th>\n",
       "      <td>$70.00</td>\n",
       "      <td>within a few hours</td>\n",
       "      <td>100%</td>\n",
       "      <td>47%</td>\n",
       "      <td>f</td>\n",
       "      <td>1</td>\n",
       "      <td>1.0</td>\n",
       "      <td>4.68</td>\n",
       "      <td>5.00</td>\n",
       "      <td>4.85</td>\n",
       "      <td>4.70</td>\n",
       "      <td>4.85</td>\n",
       "      <td>4.60</td>\n",
       "      <td>4.45</td>\n",
       "    </tr>\n",
       "    <tr>\n",
       "      <th>4</th>\n",
       "      <td>$100.00</td>\n",
       "      <td>within a day</td>\n",
       "      <td>100%</td>\n",
       "      <td>100%</td>\n",
       "      <td>f</td>\n",
       "      <td>2</td>\n",
       "      <td>2.0</td>\n",
       "      <td>4.40</td>\n",
       "      <td>4.07</td>\n",
       "      <td>4.47</td>\n",
       "      <td>4.80</td>\n",
       "      <td>4.73</td>\n",
       "      <td>4.87</td>\n",
       "      <td>4.00</td>\n",
       "    </tr>\n",
       "  </tbody>\n",
       "</table>\n",
       "</div>"
      ],
      "text/plain": [
       "     price  host_response_time host_response_rate host_acceptance_rate  \\\n",
       "0   $83.00        within a day               100%                  17%   \n",
       "1  $180.00        within a day               100%                  NaN   \n",
       "2  $116.00  within a few hours               100%                  99%   \n",
       "3   $70.00  within a few hours               100%                  47%   \n",
       "4  $100.00        within a day               100%                 100%   \n",
       "\n",
       "  host_is_superhost  accommodates  beds  review_scores_rating  \\\n",
       "0                 f             4   2.0                  4.63   \n",
       "1                 f             7   7.0                  5.00   \n",
       "2                 f             4   2.0                  4.69   \n",
       "3                 f             1   1.0                  4.68   \n",
       "4                 f             2   2.0                  4.40   \n",
       "\n",
       "   review_scores_accuracy  review_scores_cleanliness  review_scores_checkin  \\\n",
       "0                    4.67                       4.52                   4.64   \n",
       "1                    5.00                       5.00                   5.00   \n",
       "2                    4.73                       4.73                   4.78   \n",
       "3                    5.00                       4.85                   4.70   \n",
       "4                    4.07                       4.47                   4.80   \n",
       "\n",
       "   review_scores_communication  review_scores_location  review_scores_value  \n",
       "0                         4.69                    4.92                 4.62  \n",
       "1                         5.00                    4.86                 4.86  \n",
       "2                         4.79                    4.72                 4.62  \n",
       "3                         4.85                    4.60                 4.45  \n",
       "4                         4.73                    4.87                 4.00  "
      ]
     },
     "execution_count": 77,
     "metadata": {},
     "output_type": "execute_result"
    }
   ],
   "source": [
    "df.head()"
   ]
  },
  {
   "cell_type": "code",
   "execution_count": 78,
   "id": "d587333c-668d-43f9-957b-95c30f9f1dba",
   "metadata": {},
   "outputs": [
    {
     "data": {
      "text/plain": [
       "(13327, 14)"
      ]
     },
     "execution_count": 78,
     "metadata": {},
     "output_type": "execute_result"
    }
   ],
   "source": [
    "# 13,327 rows\n",
    "df.shape"
   ]
  },
  {
   "cell_type": "code",
   "execution_count": 79,
   "id": "f2583d5f-ca28-4c75-9f31-6ab1510b79bc",
   "metadata": {},
   "outputs": [],
   "source": [
    "df.dropna(inplace = True)"
   ]
  },
  {
   "cell_type": "code",
   "execution_count": 80,
   "id": "7c4ec973-6b2d-4d33-9efa-a035e1785513",
   "metadata": {},
   "outputs": [
    {
     "data": {
      "text/plain": [
       "(6202, 14)"
      ]
     },
     "execution_count": 80,
     "metadata": {},
     "output_type": "execute_result"
    }
   ],
   "source": [
    "# We lost over half of our data by dropping null values but we still have a lot of data for just 14 columns\n",
    "df.shape"
   ]
  },
  {
   "cell_type": "code",
   "execution_count": 81,
   "id": "18479665-a989-41a7-aeb2-3ef75a321743",
   "metadata": {},
   "outputs": [],
   "source": [
    "# Now we clean up these columns\n",
    "\n",
    "df.loc[:, 'price'] = df['price'].str.replace('[$,]', '', regex=True)\n",
    "df['price'] = df['price'].astype('float64')\n",
    "df.loc[:, 'host_response_rate'] = df['host_response_rate'].str.replace('%', '')\n",
    "df.loc[:, 'host_acceptance_rate'] = df['host_acceptance_rate'].str.replace('%', '')\n",
    "df['host_response_rate'] = df['host_response_rate'].astype('float64')\n",
    "df['host_acceptance_rate'] = df['host_acceptance_rate'].astype('float64')\n",
    "df.loc[:, 'host_is_superhost'] = df['host_is_superhost'].map({'t':1, 'f':0})\n",
    "df['host_is_superhost'] = df['host_is_superhost'].astype('float64')"
   ]
  },
  {
   "cell_type": "code",
   "execution_count": 82,
   "id": "628e4c30-b89c-4444-b261-e117003f03d7",
   "metadata": {},
   "outputs": [
    {
     "data": {
      "text/plain": [
       "price                          float64\n",
       "host_response_time              object\n",
       "host_response_rate             float64\n",
       "host_acceptance_rate           float64\n",
       "host_is_superhost              float64\n",
       "accommodates                     int64\n",
       "beds                           float64\n",
       "review_scores_rating           float64\n",
       "review_scores_accuracy         float64\n",
       "review_scores_cleanliness      float64\n",
       "review_scores_checkin          float64\n",
       "review_scores_communication    float64\n",
       "review_scores_location         float64\n",
       "review_scores_value            float64\n",
       "dtype: object"
      ]
     },
     "execution_count": 82,
     "metadata": {},
     "output_type": "execute_result"
    }
   ],
   "source": [
    "# Looks good now \n",
    "df.dtypes"
   ]
  },
  {
   "cell_type": "code",
   "execution_count": 83,
   "id": "e3e9fb32-faf4-4e03-9403-5b4e04d94c08",
   "metadata": {},
   "outputs": [
    {
     "data": {
      "text/html": [
       "<div>\n",
       "<style scoped>\n",
       "    .dataframe tbody tr th:only-of-type {\n",
       "        vertical-align: middle;\n",
       "    }\n",
       "\n",
       "    .dataframe tbody tr th {\n",
       "        vertical-align: top;\n",
       "    }\n",
       "\n",
       "    .dataframe thead th {\n",
       "        text-align: right;\n",
       "    }\n",
       "</style>\n",
       "<table border=\"1\" class=\"dataframe\">\n",
       "  <thead>\n",
       "    <tr style=\"text-align: right;\">\n",
       "      <th></th>\n",
       "      <th>price</th>\n",
       "      <th>host_response_time</th>\n",
       "      <th>host_response_rate</th>\n",
       "      <th>host_acceptance_rate</th>\n",
       "      <th>host_is_superhost</th>\n",
       "      <th>accommodates</th>\n",
       "      <th>beds</th>\n",
       "      <th>review_scores_rating</th>\n",
       "      <th>review_scores_accuracy</th>\n",
       "      <th>review_scores_cleanliness</th>\n",
       "      <th>review_scores_checkin</th>\n",
       "      <th>review_scores_communication</th>\n",
       "      <th>review_scores_location</th>\n",
       "      <th>review_scores_value</th>\n",
       "    </tr>\n",
       "  </thead>\n",
       "  <tbody>\n",
       "    <tr>\n",
       "      <th>0</th>\n",
       "      <td>83.0</td>\n",
       "      <td>within a day</td>\n",
       "      <td>100.0</td>\n",
       "      <td>17.0</td>\n",
       "      <td>0.0</td>\n",
       "      <td>4</td>\n",
       "      <td>2.0</td>\n",
       "      <td>4.63</td>\n",
       "      <td>4.67</td>\n",
       "      <td>4.52</td>\n",
       "      <td>4.64</td>\n",
       "      <td>4.69</td>\n",
       "      <td>4.92</td>\n",
       "      <td>4.62</td>\n",
       "    </tr>\n",
       "    <tr>\n",
       "      <th>2</th>\n",
       "      <td>116.0</td>\n",
       "      <td>within a few hours</td>\n",
       "      <td>100.0</td>\n",
       "      <td>99.0</td>\n",
       "      <td>0.0</td>\n",
       "      <td>4</td>\n",
       "      <td>2.0</td>\n",
       "      <td>4.69</td>\n",
       "      <td>4.73</td>\n",
       "      <td>4.73</td>\n",
       "      <td>4.78</td>\n",
       "      <td>4.79</td>\n",
       "      <td>4.72</td>\n",
       "      <td>4.62</td>\n",
       "    </tr>\n",
       "    <tr>\n",
       "      <th>3</th>\n",
       "      <td>70.0</td>\n",
       "      <td>within a few hours</td>\n",
       "      <td>100.0</td>\n",
       "      <td>47.0</td>\n",
       "      <td>0.0</td>\n",
       "      <td>1</td>\n",
       "      <td>1.0</td>\n",
       "      <td>4.68</td>\n",
       "      <td>5.00</td>\n",
       "      <td>4.85</td>\n",
       "      <td>4.70</td>\n",
       "      <td>4.85</td>\n",
       "      <td>4.60</td>\n",
       "      <td>4.45</td>\n",
       "    </tr>\n",
       "    <tr>\n",
       "      <th>4</th>\n",
       "      <td>100.0</td>\n",
       "      <td>within a day</td>\n",
       "      <td>100.0</td>\n",
       "      <td>100.0</td>\n",
       "      <td>0.0</td>\n",
       "      <td>2</td>\n",
       "      <td>2.0</td>\n",
       "      <td>4.40</td>\n",
       "      <td>4.07</td>\n",
       "      <td>4.47</td>\n",
       "      <td>4.80</td>\n",
       "      <td>4.73</td>\n",
       "      <td>4.87</td>\n",
       "      <td>4.00</td>\n",
       "    </tr>\n",
       "    <tr>\n",
       "      <th>8</th>\n",
       "      <td>25.0</td>\n",
       "      <td>within an hour</td>\n",
       "      <td>100.0</td>\n",
       "      <td>96.0</td>\n",
       "      <td>1.0</td>\n",
       "      <td>2</td>\n",
       "      <td>1.0</td>\n",
       "      <td>4.77</td>\n",
       "      <td>4.82</td>\n",
       "      <td>4.71</td>\n",
       "      <td>4.89</td>\n",
       "      <td>4.92</td>\n",
       "      <td>4.87</td>\n",
       "      <td>4.65</td>\n",
       "    </tr>\n",
       "  </tbody>\n",
       "</table>\n",
       "</div>"
      ],
      "text/plain": [
       "   price  host_response_time  host_response_rate  host_acceptance_rate  \\\n",
       "0   83.0        within a day               100.0                  17.0   \n",
       "2  116.0  within a few hours               100.0                  99.0   \n",
       "3   70.0  within a few hours               100.0                  47.0   \n",
       "4  100.0        within a day               100.0                 100.0   \n",
       "8   25.0      within an hour               100.0                  96.0   \n",
       "\n",
       "   host_is_superhost  accommodates  beds  review_scores_rating  \\\n",
       "0                0.0             4   2.0                  4.63   \n",
       "2                0.0             4   2.0                  4.69   \n",
       "3                0.0             1   1.0                  4.68   \n",
       "4                0.0             2   2.0                  4.40   \n",
       "8                1.0             2   1.0                  4.77   \n",
       "\n",
       "   review_scores_accuracy  review_scores_cleanliness  review_scores_checkin  \\\n",
       "0                    4.67                       4.52                   4.64   \n",
       "2                    4.73                       4.73                   4.78   \n",
       "3                    5.00                       4.85                   4.70   \n",
       "4                    4.07                       4.47                   4.80   \n",
       "8                    4.82                       4.71                   4.89   \n",
       "\n",
       "   review_scores_communication  review_scores_location  review_scores_value  \n",
       "0                         4.69                    4.92                 4.62  \n",
       "2                         4.79                    4.72                 4.62  \n",
       "3                         4.85                    4.60                 4.45  \n",
       "4                         4.73                    4.87                 4.00  \n",
       "8                         4.92                    4.87                 4.65  "
      ]
     },
     "execution_count": 83,
     "metadata": {},
     "output_type": "execute_result"
    }
   ],
   "source": [
    "df.head()"
   ]
  },
  {
   "cell_type": "code",
   "execution_count": 84,
   "id": "80eb8373-0ed5-4852-ac32-0e3d5c6f6a73",
   "metadata": {},
   "outputs": [],
   "source": [
    "# Save this as a csv to be used for the regression models in 03_regression\n",
    "df.to_csv('../data/03_data.csv')"
   ]
  },
  {
   "cell_type": "markdown",
   "id": "df0e8fdd-d43a-4673-bd74-8b1a3c67b033",
   "metadata": {},
   "source": [
    "___\n",
    "# Making Dataframe For Forecasting\n",
    "\n",
    "We need to make a data frame with date time as the index and a price column. We will have to aggregate all of the sales by date so that we can see total sales by date. This can be achieved with a simply groupby. We will use the price in the calendar dataset and filter by availability being false. The assumption here is that when the availability is false, it is being occupied and revenue is being collected."
   ]
  },
  {
   "cell_type": "code",
   "execution_count": 85,
   "id": "7036dcdf-b273-4e49-9975-2b0bd970a038",
   "metadata": {},
   "outputs": [],
   "source": [
    "# All we need for forecast modeling is date and price\n",
    "fc = df3[['date', 'price']]\n",
    "fc['date'] = pd.to_datetime(fc['date'])"
   ]
  },
  {
   "cell_type": "code",
   "execution_count": 86,
   "id": "a0484067-0739-4e25-a954-80f3a1ef25d9",
   "metadata": {},
   "outputs": [],
   "source": [
    "# Only show the properties which are occupied\n",
    "fc = df3[df3['available'] == 'f']"
   ]
  },
  {
   "cell_type": "code",
   "execution_count": 87,
   "id": "a45d54eb-9bd8-449e-a13f-0a688ae74278",
   "metadata": {},
   "outputs": [
    {
     "data": {
      "text/plain": [
       "date\n",
       "2023-12-19    10738\n",
       "2024-09-28    10429\n",
       "2024-09-27    10408\n",
       "2023-12-31    10355\n",
       "2023-12-30    10242\n",
       "              ...  \n",
       "2024-03-14     7207\n",
       "2024-03-13     7177\n",
       "2024-03-12     7165\n",
       "2024-03-17     7125\n",
       "2023-12-18       11\n",
       "Name: count, Length: 366, dtype: int64"
      ]
     },
     "execution_count": 87,
     "metadata": {},
     "output_type": "execute_result"
    }
   ],
   "source": [
    "# We still have to aggregate sales across all properties by date\n",
    "fc['date'].value_counts()"
   ]
  },
  {
   "cell_type": "code",
   "execution_count": 88,
   "id": "df3d20cc-f277-4009-9380-97617d11810e",
   "metadata": {},
   "outputs": [],
   "source": [
    "# Remove the dollar sign and commas to make price numeric\n",
    "fc.loc[:, 'price'] = fc['price'].str.replace('[$,]', '', regex=True)\n",
    "\n",
    "# Convert the modified values in the 'price' column to numeric, coercing invalid parsing to NaN\n",
    "fc['price'] = fc['price'].astype('float64')"
   ]
  },
  {
   "cell_type": "code",
   "execution_count": 89,
   "id": "69003728-729b-437a-902b-8061f7b48cc7",
   "metadata": {},
   "outputs": [
    {
     "data": {
      "text/html": [
       "<div>\n",
       "<style scoped>\n",
       "    .dataframe tbody tr th:only-of-type {\n",
       "        vertical-align: middle;\n",
       "    }\n",
       "\n",
       "    .dataframe tbody tr th {\n",
       "        vertical-align: top;\n",
       "    }\n",
       "\n",
       "    .dataframe thead th {\n",
       "        text-align: right;\n",
       "    }\n",
       "</style>\n",
       "<table border=\"1\" class=\"dataframe\">\n",
       "  <thead>\n",
       "    <tr style=\"text-align: right;\">\n",
       "      <th></th>\n",
       "      <th>date</th>\n",
       "      <th>price</th>\n",
       "    </tr>\n",
       "  </thead>\n",
       "  <tbody>\n",
       "    <tr>\n",
       "      <th>0</th>\n",
       "      <td>2023-12-18</td>\n",
       "      <td>679.0</td>\n",
       "    </tr>\n",
       "    <tr>\n",
       "      <th>1</th>\n",
       "      <td>2023-12-19</td>\n",
       "      <td>1238727.0</td>\n",
       "    </tr>\n",
       "    <tr>\n",
       "      <th>2</th>\n",
       "      <td>2023-12-20</td>\n",
       "      <td>1064670.0</td>\n",
       "    </tr>\n",
       "    <tr>\n",
       "      <th>3</th>\n",
       "      <td>2023-12-21</td>\n",
       "      <td>1034584.0</td>\n",
       "    </tr>\n",
       "    <tr>\n",
       "      <th>4</th>\n",
       "      <td>2023-12-22</td>\n",
       "      <td>998590.0</td>\n",
       "    </tr>\n",
       "    <tr>\n",
       "      <th>...</th>\n",
       "      <td>...</td>\n",
       "      <td>...</td>\n",
       "    </tr>\n",
       "    <tr>\n",
       "      <th>361</th>\n",
       "      <td>2024-12-13</td>\n",
       "      <td>1159658.0</td>\n",
       "    </tr>\n",
       "    <tr>\n",
       "      <th>362</th>\n",
       "      <td>2024-12-14</td>\n",
       "      <td>1159189.0</td>\n",
       "    </tr>\n",
       "    <tr>\n",
       "      <th>363</th>\n",
       "      <td>2024-12-15</td>\n",
       "      <td>1159084.0</td>\n",
       "    </tr>\n",
       "    <tr>\n",
       "      <th>364</th>\n",
       "      <td>2024-12-16</td>\n",
       "      <td>1164876.0</td>\n",
       "    </tr>\n",
       "    <tr>\n",
       "      <th>365</th>\n",
       "      <td>2024-12-17</td>\n",
       "      <td>1167324.0</td>\n",
       "    </tr>\n",
       "  </tbody>\n",
       "</table>\n",
       "<p>366 rows × 2 columns</p>\n",
       "</div>"
      ],
      "text/plain": [
       "           date      price\n",
       "0    2023-12-18      679.0\n",
       "1    2023-12-19  1238727.0\n",
       "2    2023-12-20  1064670.0\n",
       "3    2023-12-21  1034584.0\n",
       "4    2023-12-22   998590.0\n",
       "..          ...        ...\n",
       "361  2024-12-13  1159658.0\n",
       "362  2024-12-14  1159189.0\n",
       "363  2024-12-15  1159084.0\n",
       "364  2024-12-16  1164876.0\n",
       "365  2024-12-17  1167324.0\n",
       "\n",
       "[366 rows x 2 columns]"
      ]
     },
     "execution_count": 89,
     "metadata": {},
     "output_type": "execute_result"
    }
   ],
   "source": [
    "# Group by 'date' and sum the 'price' column\n",
    "sales = fc.groupby('date')['price'].sum().reset_index()\n",
    "sales"
   ]
  },
  {
   "cell_type": "code",
   "execution_count": 90,
   "id": "293fa32d-55a9-4f53-a7f4-4ad24e149f16",
   "metadata": {},
   "outputs": [
    {
     "data": {
      "text/plain": [
       "date      object\n",
       "price    float64\n",
       "dtype: object"
      ]
     },
     "execution_count": 90,
     "metadata": {},
     "output_type": "execute_result"
    }
   ],
   "source": [
    "# Now the price column is a float and can be graphed\n",
    "sales.dtypes"
   ]
  },
  {
   "cell_type": "code",
   "execution_count": 91,
   "id": "308b6bbf-dab3-4471-aa84-a2230e6aad9f",
   "metadata": {},
   "outputs": [],
   "source": [
    "# Set the date as the index\n",
    "sales.set_index('date', inplace=True)"
   ]
  },
  {
   "cell_type": "code",
   "execution_count": 92,
   "id": "9f062859-59ae-4f4c-84c3-6b3558e15221",
   "metadata": {},
   "outputs": [],
   "source": [
    "# We will remove the first row because we only have a few sales on that day\n",
    "# This is most likely due to data collection starting midday\n",
    "sales = sales[1:]"
   ]
  },
  {
   "cell_type": "code",
   "execution_count": 93,
   "id": "3229eb79-88c4-4dc5-aa97-cd6d340ea3b0",
   "metadata": {},
   "outputs": [
    {
     "data": {
      "text/html": [
       "<div>\n",
       "<style scoped>\n",
       "    .dataframe tbody tr th:only-of-type {\n",
       "        vertical-align: middle;\n",
       "    }\n",
       "\n",
       "    .dataframe tbody tr th {\n",
       "        vertical-align: top;\n",
       "    }\n",
       "\n",
       "    .dataframe thead th {\n",
       "        text-align: right;\n",
       "    }\n",
       "</style>\n",
       "<table border=\"1\" class=\"dataframe\">\n",
       "  <thead>\n",
       "    <tr style=\"text-align: right;\">\n",
       "      <th></th>\n",
       "      <th>price</th>\n",
       "    </tr>\n",
       "    <tr>\n",
       "      <th>date</th>\n",
       "      <th></th>\n",
       "    </tr>\n",
       "  </thead>\n",
       "  <tbody>\n",
       "    <tr>\n",
       "      <th>2023-12-19</th>\n",
       "      <td>1238727.0</td>\n",
       "    </tr>\n",
       "    <tr>\n",
       "      <th>2023-12-20</th>\n",
       "      <td>1064670.0</td>\n",
       "    </tr>\n",
       "    <tr>\n",
       "      <th>2023-12-21</th>\n",
       "      <td>1034584.0</td>\n",
       "    </tr>\n",
       "    <tr>\n",
       "      <th>2023-12-22</th>\n",
       "      <td>998590.0</td>\n",
       "    </tr>\n",
       "    <tr>\n",
       "      <th>2023-12-23</th>\n",
       "      <td>1055642.0</td>\n",
       "    </tr>\n",
       "  </tbody>\n",
       "</table>\n",
       "</div>"
      ],
      "text/plain": [
       "                price\n",
       "date                 \n",
       "2023-12-19  1238727.0\n",
       "2023-12-20  1064670.0\n",
       "2023-12-21  1034584.0\n",
       "2023-12-22   998590.0\n",
       "2023-12-23  1055642.0"
      ]
     },
     "execution_count": 93,
     "metadata": {},
     "output_type": "execute_result"
    }
   ],
   "source": [
    "# Looks good!\n",
    "sales.head()"
   ]
  },
  {
   "cell_type": "code",
   "execution_count": 94,
   "id": "965ccd7f-594f-40c2-8003-625a0c5cff34",
   "metadata": {},
   "outputs": [],
   "source": [
    "# Save to csv to be used for 04_forecasting \n",
    "sales.to_csv('../data/04_sales.csv')"
   ]
  },
  {
   "cell_type": "markdown",
   "id": "6b24a113-85d0-4b40-8289-f53c649e4782",
   "metadata": {},
   "source": [
    "___\n",
    "# Making Dataframe For Sentiment Analysis\n",
    "\n",
    "We have a concise DataFrame named df2 containing listing information. Our goal is to prepare individual reviews for analysis by implementing a function that cleans them up, ensuring proper punctuation and spacing. This preprocessing step is crucial for subsequent tasks.\n",
    "\n",
    "The function we'll create will first address punctuation and spacing issues within each review. Next, it will tokenize the review, breaking it down into individual words or phrases. Finally, the function will apply stemming to these tokens, identifying the root forms of words."
   ]
  },
  {
   "cell_type": "code",
   "execution_count": 95,
   "id": "93598cb2-fd9b-4a4f-86e8-61d4fa257edb",
   "metadata": {},
   "outputs": [],
   "source": [
    "# Function to preprocess text\n",
    "def preprocess_text(text):\n",
    "    # Punctuation \n",
    "    text = text.lower()\n",
    "    text = text.translate(str.maketrans('', '', string.punctuation))\n",
    "    tokens = word_tokenize(text)\n",
    "    \n",
    "    # Remove stopwords\n",
    "    stop_words = set(stopwords.words('english'))\n",
    "    tokens = [word for word in tokens if word not in stop_words]\n",
    "    \n",
    "    # Stemming\n",
    "    stemmer = PorterStemmer()\n",
    "    tokens = [stemmer.stem(word) for word in tokens]\n",
    "    \n",
    "    # Join the tokens back into a single string\n",
    "    preprocessed_text = ' '.join(tokens)\n",
    "    \n",
    "    return preprocessed_text"
   ]
  },
  {
   "cell_type": "code",
   "execution_count": 96,
   "id": "1d4fa442-e45b-4345-a614-1ffd9404c989",
   "metadata": {},
   "outputs": [],
   "source": [
    "df2.dropna(inplace = True)"
   ]
  },
  {
   "cell_type": "code",
   "execution_count": 97,
   "id": "aa5d975d-869f-4503-8699-ae12b37a796c",
   "metadata": {},
   "outputs": [
    {
     "data": {
      "text/html": [
       "<div>\n",
       "<style scoped>\n",
       "    .dataframe tbody tr th:only-of-type {\n",
       "        vertical-align: middle;\n",
       "    }\n",
       "\n",
       "    .dataframe tbody tr th {\n",
       "        vertical-align: top;\n",
       "    }\n",
       "\n",
       "    .dataframe thead th {\n",
       "        text-align: right;\n",
       "    }\n",
       "</style>\n",
       "<table border=\"1\" class=\"dataframe\">\n",
       "  <thead>\n",
       "    <tr style=\"text-align: right;\">\n",
       "      <th></th>\n",
       "      <th>listing_id</th>\n",
       "      <th>id</th>\n",
       "      <th>date</th>\n",
       "      <th>reviewer_id</th>\n",
       "      <th>reviewer_name</th>\n",
       "      <th>comments</th>\n",
       "    </tr>\n",
       "  </thead>\n",
       "  <tbody>\n",
       "    <tr>\n",
       "      <th>0</th>\n",
       "      <td>3176</td>\n",
       "      <td>4283</td>\n",
       "      <td>2009-06-20</td>\n",
       "      <td>21475</td>\n",
       "      <td>Milan</td>\n",
       "      <td>excellent stay, i would highly recommend it. a...</td>\n",
       "    </tr>\n",
       "    <tr>\n",
       "      <th>1</th>\n",
       "      <td>3176</td>\n",
       "      <td>134722</td>\n",
       "      <td>2010-11-07</td>\n",
       "      <td>263467</td>\n",
       "      <td>George</td>\n",
       "      <td>Britta's apartment in Berlin is in a great are...</td>\n",
       "    </tr>\n",
       "    <tr>\n",
       "      <th>2</th>\n",
       "      <td>3176</td>\n",
       "      <td>144064</td>\n",
       "      <td>2010-11-24</td>\n",
       "      <td>76726</td>\n",
       "      <td>Patricia</td>\n",
       "      <td>Fantastic, large place in good location. Only ...</td>\n",
       "    </tr>\n",
       "    <tr>\n",
       "      <th>3</th>\n",
       "      <td>3176</td>\n",
       "      <td>156702</td>\n",
       "      <td>2010-12-21</td>\n",
       "      <td>291657</td>\n",
       "      <td>Benedetta</td>\n",
       "      <td>L'appartamento di Britta è molto largo carino ...</td>\n",
       "    </tr>\n",
       "    <tr>\n",
       "      <th>4</th>\n",
       "      <td>3176</td>\n",
       "      <td>165048</td>\n",
       "      <td>2011-01-04</td>\n",
       "      <td>279789</td>\n",
       "      <td>Aude</td>\n",
       "      <td>We went in Berlin for the new year eve. The ap...</td>\n",
       "    </tr>\n",
       "  </tbody>\n",
       "</table>\n",
       "</div>"
      ],
      "text/plain": [
       "   listing_id      id        date  reviewer_id reviewer_name  \\\n",
       "0        3176    4283  2009-06-20        21475         Milan   \n",
       "1        3176  134722  2010-11-07       263467        George   \n",
       "2        3176  144064  2010-11-24        76726      Patricia   \n",
       "3        3176  156702  2010-12-21       291657     Benedetta   \n",
       "4        3176  165048  2011-01-04       279789          Aude   \n",
       "\n",
       "                                            comments  \n",
       "0  excellent stay, i would highly recommend it. a...  \n",
       "1  Britta's apartment in Berlin is in a great are...  \n",
       "2  Fantastic, large place in good location. Only ...  \n",
       "3  L'appartamento di Britta è molto largo carino ...  \n",
       "4  We went in Berlin for the new year eve. The ap...  "
      ]
     },
     "execution_count": 97,
     "metadata": {},
     "output_type": "execute_result"
    }
   ],
   "source": [
    "df2.head()"
   ]
  },
  {
   "cell_type": "code",
   "execution_count": 98,
   "id": "59be0b6e-7822-4242-a3ce-4d7697d43630",
   "metadata": {},
   "outputs": [],
   "source": [
    "# Apply the function \n",
    "df2['preprocessed_review'] = df2['comments'].apply(preprocess_text)"
   ]
  },
  {
   "cell_type": "code",
   "execution_count": 99,
   "id": "131a91a9-3509-426f-b553-440f8c25b84d",
   "metadata": {},
   "outputs": [],
   "source": [
    "# Make a new dataframe with just listing ID and preprocessed review\n",
    "df_rev = df2[['listing_id', 'preprocessed_review']]"
   ]
  },
  {
   "cell_type": "code",
   "execution_count": 100,
   "id": "f264e49a-a20c-4916-a839-fe322c12eedf",
   "metadata": {},
   "outputs": [
    {
     "data": {
      "text/html": [
       "<div>\n",
       "<style scoped>\n",
       "    .dataframe tbody tr th:only-of-type {\n",
       "        vertical-align: middle;\n",
       "    }\n",
       "\n",
       "    .dataframe tbody tr th {\n",
       "        vertical-align: top;\n",
       "    }\n",
       "\n",
       "    .dataframe thead th {\n",
       "        text-align: right;\n",
       "    }\n",
       "</style>\n",
       "<table border=\"1\" class=\"dataframe\">\n",
       "  <thead>\n",
       "    <tr style=\"text-align: right;\">\n",
       "      <th></th>\n",
       "      <th>listing_id</th>\n",
       "      <th>preprocessed_review</th>\n",
       "    </tr>\n",
       "  </thead>\n",
       "  <tbody>\n",
       "    <tr>\n",
       "      <th>0</th>\n",
       "      <td>3176</td>\n",
       "      <td>excel stay would highli recommend nice flat ni...</td>\n",
       "    </tr>\n",
       "    <tr>\n",
       "      <th>1</th>\n",
       "      <td>3176</td>\n",
       "      <td>britta apart berlin great area numer fantast r...</td>\n",
       "    </tr>\n",
       "    <tr>\n",
       "      <th>2</th>\n",
       "      <td>3176</td>\n",
       "      <td>fantast larg place good locat short tram ride ...</td>\n",
       "    </tr>\n",
       "    <tr>\n",
       "      <th>3</th>\n",
       "      <td>3176</td>\n",
       "      <td>lappartamento di britta è molto largo carino c...</td>\n",
       "    </tr>\n",
       "    <tr>\n",
       "      <th>4</th>\n",
       "      <td>3176</td>\n",
       "      <td>went berlin new year eve appart britta realli ...</td>\n",
       "    </tr>\n",
       "  </tbody>\n",
       "</table>\n",
       "</div>"
      ],
      "text/plain": [
       "   listing_id                                preprocessed_review\n",
       "0        3176  excel stay would highli recommend nice flat ni...\n",
       "1        3176  britta apart berlin great area numer fantast r...\n",
       "2        3176  fantast larg place good locat short tram ride ...\n",
       "3        3176  lappartamento di britta è molto largo carino c...\n",
       "4        3176  went berlin new year eve appart britta realli ..."
      ]
     },
     "execution_count": 100,
     "metadata": {},
     "output_type": "execute_result"
    }
   ],
   "source": [
    "df_rev.head()"
   ]
  },
  {
   "cell_type": "code",
   "execution_count": 101,
   "id": "b6278191-45ae-4b55-8c03-f6cb6a55f185",
   "metadata": {},
   "outputs": [],
   "source": [
    "# Save this to a dataframe to be used on 05_sentiment_analysis\n",
    "df_rev.to_csv('../data/05_data.csv')"
   ]
  }
 ],
 "metadata": {
  "kernelspec": {
   "display_name": "Python 3",
   "language": "python",
   "name": "python3"
  },
  "language_info": {
   "codemirror_mode": {
    "name": "ipython",
    "version": 3
   },
   "file_extension": ".py",
   "mimetype": "text/x-python",
   "name": "python",
   "nbconvert_exporter": "python",
   "pygments_lexer": "ipython3",
   "version": "3.8.8"
  }
 },
 "nbformat": 4,
 "nbformat_minor": 5
}
