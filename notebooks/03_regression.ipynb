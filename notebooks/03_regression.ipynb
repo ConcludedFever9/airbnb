{
 "cells": [
  {
   "cell_type": "markdown",
   "id": "de14c334-3816-4529-a2a4-1ef186e6716e",
   "metadata": {},
   "source": [
    "# Regression Models For Predicting Price\n",
    "___"
   ]
  },
  {
   "cell_type": "markdown",
   "id": "d8e93b84-77c5-47ce-a328-fb73c201da33",
   "metadata": {},
   "source": [
    "## Why Regression Matters\n",
    "\n",
    "Predicting Airbnb prices using regression models offers several advantages for both hosts and guests alike. By leveraging various predictors such as host response metrics, accommodation attributes, and review scores, these models can provide valuable insights into pricing strategies and help optimize the booking experience.\n",
    "\n",
    "## Objectives\n",
    "\n",
    "Utilize regression models to inform hosts' pricing strategies, enabling them to base decisions on empirical data rather than intuition alone. Enhance the guest experience by providing transparent and predictable pricing, guided by regression models that consider various factors impacting accommodation quality and value. Deliver personalized recommendations to hosts regarding optimal pricing strategies and to guests regarding relevant listings, leveraging regression models to analyze historical data and user preferences.\n",
    "\n",
    "## Approach\n",
    "\n",
    "In this project, we will employ three different regression models to predict Airbnb prices: Simple Linear Regression (SLR), Random Forest Regression, and Neural Network Regression. Each model offers unique advantages.\n",
    "\n",
    "1. **Simple Linear Regression (SLR)**:\n",
    "   SLR provides a straightforward approach to modeling the relationship between the predictor variables and the target variable (price). It's particularly useful for identifying linear relationships and understanding the individual impact of each predictor on the target variable. We'll use SLR to establish a baseline performance and interpret the coefficients of the predictors.\n",
    "\n",
    "2. **Random Forest Regression**:\n",
    "   Random Forest Regression is an ensemble learning technique that combines multiple decision trees to improve predictive accuracy and handle nonlinear relationships and interactions between predictors. It's robust to overfitting and can handle a large number of input variables with ease. We'll leverage Random Forest Regression to capture complex interactions between predictors and enhance prediction accuracy.\n",
    "\n",
    "3. **Neural Network Regression**:\n",
    "   Neural Network Regression, specifically deep learning architectures, can capture intricate patterns and relationships within the data, allowing for highly flexible modeling without relying on explicit feature engineering. Neural networks excel at learning nonlinear relationships and can adapt to complex datasets with high dimensionality. We'll utilize Neural Network Regression to capture nonlinearities and interactions that may not be captured effectively by traditional regression models.\n",
    "\n",
    "For evaluation, we'll use Mean Squared Error (MSE) as the scoring metric for all three models. MSE provides a measure of the average squared difference between the predicted and actual prices, allowing us to assess the accuracy of the models' predictions.\n"
   ]
  },
  {
   "cell_type": "markdown",
   "id": "ade61cc4-0a7d-449d-8e59-c694f79d620f",
   "metadata": {},
   "source": [
    "# Simple Linear Regression (SLR)"
   ]
  },
  {
   "cell_type": "code",
   "execution_count": 16,
   "id": "bf849029-4c53-4eee-9cf0-187f41a783ec",
   "metadata": {},
   "outputs": [],
   "source": [
    "import pandas as pd\n",
    "from sklearn.model_selection import train_test_split\n",
    "from sklearn.linear_model import LinearRegression\n",
    "from sklearn.metrics import mean_squared_error, r2_score\n",
    "from sklearn.preprocessing import StandardScaler\n",
    "from sklearn.ensemble import RandomForestRegressor\n",
    "from sklearn.ensemble import GradientBoostingRegressor\n",
    "from sklearn.model_selection import GridSearchCV, KFold"
   ]
  },
  {
   "cell_type": "code",
   "execution_count": 17,
   "id": "9513ae4e-e368-4447-92a0-9ea65a29da4c",
   "metadata": {},
   "outputs": [],
   "source": [
    "df = pd.read_csv('../data/03_data.csv', index_col = False)"
   ]
  },
  {
   "cell_type": "code",
   "execution_count": 18,
   "id": "d4dd81a7-3391-4890-8f1f-c665fd0ac4a3",
   "metadata": {},
   "outputs": [
    {
     "data": {
      "text/html": [
       "<div>\n",
       "<style scoped>\n",
       "    .dataframe tbody tr th:only-of-type {\n",
       "        vertical-align: middle;\n",
       "    }\n",
       "\n",
       "    .dataframe tbody tr th {\n",
       "        vertical-align: top;\n",
       "    }\n",
       "\n",
       "    .dataframe thead th {\n",
       "        text-align: right;\n",
       "    }\n",
       "</style>\n",
       "<table border=\"1\" class=\"dataframe\">\n",
       "  <thead>\n",
       "    <tr style=\"text-align: right;\">\n",
       "      <th></th>\n",
       "      <th>Unnamed: 0</th>\n",
       "      <th>price</th>\n",
       "      <th>host_response_time</th>\n",
       "      <th>host_response_rate</th>\n",
       "      <th>host_acceptance_rate</th>\n",
       "      <th>host_is_superhost</th>\n",
       "      <th>accommodates</th>\n",
       "      <th>beds</th>\n",
       "      <th>review_scores_rating</th>\n",
       "      <th>review_scores_accuracy</th>\n",
       "      <th>review_scores_cleanliness</th>\n",
       "      <th>review_scores_checkin</th>\n",
       "      <th>review_scores_communication</th>\n",
       "      <th>review_scores_location</th>\n",
       "      <th>review_scores_value</th>\n",
       "    </tr>\n",
       "  </thead>\n",
       "  <tbody>\n",
       "    <tr>\n",
       "      <th>0</th>\n",
       "      <td>0</td>\n",
       "      <td>83.0</td>\n",
       "      <td>within a day</td>\n",
       "      <td>100.0</td>\n",
       "      <td>17.0</td>\n",
       "      <td>0.0</td>\n",
       "      <td>4</td>\n",
       "      <td>2.0</td>\n",
       "      <td>4.63</td>\n",
       "      <td>4.67</td>\n",
       "      <td>4.52</td>\n",
       "      <td>4.64</td>\n",
       "      <td>4.69</td>\n",
       "      <td>4.92</td>\n",
       "      <td>4.62</td>\n",
       "    </tr>\n",
       "    <tr>\n",
       "      <th>1</th>\n",
       "      <td>2</td>\n",
       "      <td>116.0</td>\n",
       "      <td>within a few hours</td>\n",
       "      <td>100.0</td>\n",
       "      <td>99.0</td>\n",
       "      <td>0.0</td>\n",
       "      <td>4</td>\n",
       "      <td>2.0</td>\n",
       "      <td>4.69</td>\n",
       "      <td>4.73</td>\n",
       "      <td>4.73</td>\n",
       "      <td>4.78</td>\n",
       "      <td>4.79</td>\n",
       "      <td>4.72</td>\n",
       "      <td>4.62</td>\n",
       "    </tr>\n",
       "    <tr>\n",
       "      <th>2</th>\n",
       "      <td>3</td>\n",
       "      <td>70.0</td>\n",
       "      <td>within a few hours</td>\n",
       "      <td>100.0</td>\n",
       "      <td>47.0</td>\n",
       "      <td>0.0</td>\n",
       "      <td>1</td>\n",
       "      <td>1.0</td>\n",
       "      <td>4.68</td>\n",
       "      <td>5.00</td>\n",
       "      <td>4.85</td>\n",
       "      <td>4.70</td>\n",
       "      <td>4.85</td>\n",
       "      <td>4.60</td>\n",
       "      <td>4.45</td>\n",
       "    </tr>\n",
       "    <tr>\n",
       "      <th>3</th>\n",
       "      <td>4</td>\n",
       "      <td>100.0</td>\n",
       "      <td>within a day</td>\n",
       "      <td>100.0</td>\n",
       "      <td>100.0</td>\n",
       "      <td>0.0</td>\n",
       "      <td>2</td>\n",
       "      <td>2.0</td>\n",
       "      <td>4.40</td>\n",
       "      <td>4.07</td>\n",
       "      <td>4.47</td>\n",
       "      <td>4.80</td>\n",
       "      <td>4.73</td>\n",
       "      <td>4.87</td>\n",
       "      <td>4.00</td>\n",
       "    </tr>\n",
       "    <tr>\n",
       "      <th>4</th>\n",
       "      <td>8</td>\n",
       "      <td>25.0</td>\n",
       "      <td>within an hour</td>\n",
       "      <td>100.0</td>\n",
       "      <td>96.0</td>\n",
       "      <td>1.0</td>\n",
       "      <td>2</td>\n",
       "      <td>1.0</td>\n",
       "      <td>4.77</td>\n",
       "      <td>4.82</td>\n",
       "      <td>4.71</td>\n",
       "      <td>4.89</td>\n",
       "      <td>4.92</td>\n",
       "      <td>4.87</td>\n",
       "      <td>4.65</td>\n",
       "    </tr>\n",
       "  </tbody>\n",
       "</table>\n",
       "</div>"
      ],
      "text/plain": [
       "   Unnamed: 0  price  host_response_time  host_response_rate  \\\n",
       "0           0   83.0        within a day               100.0   \n",
       "1           2  116.0  within a few hours               100.0   \n",
       "2           3   70.0  within a few hours               100.0   \n",
       "3           4  100.0        within a day               100.0   \n",
       "4           8   25.0      within an hour               100.0   \n",
       "\n",
       "   host_acceptance_rate  host_is_superhost  accommodates  beds  \\\n",
       "0                  17.0                0.0             4   2.0   \n",
       "1                  99.0                0.0             4   2.0   \n",
       "2                  47.0                0.0             1   1.0   \n",
       "3                 100.0                0.0             2   2.0   \n",
       "4                  96.0                1.0             2   1.0   \n",
       "\n",
       "   review_scores_rating  review_scores_accuracy  review_scores_cleanliness  \\\n",
       "0                  4.63                    4.67                       4.52   \n",
       "1                  4.69                    4.73                       4.73   \n",
       "2                  4.68                    5.00                       4.85   \n",
       "3                  4.40                    4.07                       4.47   \n",
       "4                  4.77                    4.82                       4.71   \n",
       "\n",
       "   review_scores_checkin  review_scores_communication  review_scores_location  \\\n",
       "0                   4.64                         4.69                    4.92   \n",
       "1                   4.78                         4.79                    4.72   \n",
       "2                   4.70                         4.85                    4.60   \n",
       "3                   4.80                         4.73                    4.87   \n",
       "4                   4.89                         4.92                    4.87   \n",
       "\n",
       "   review_scores_value  \n",
       "0                 4.62  \n",
       "1                 4.62  \n",
       "2                 4.45  \n",
       "3                 4.00  \n",
       "4                 4.65  "
      ]
     },
     "execution_count": 18,
     "metadata": {},
     "output_type": "execute_result"
    }
   ],
   "source": [
    "df.head()"
   ]
  },
  {
   "cell_type": "code",
   "execution_count": 19,
   "id": "5c048fe7-afa7-4e4d-af05-6a0137b292ea",
   "metadata": {},
   "outputs": [
    {
     "data": {
      "text/plain": [
       "host_response_time\n",
       "within an hour        4043\n",
       "within a few hours    1092\n",
       "within a day           906\n",
       "a few days or more     161\n",
       "Name: count, dtype: int64"
      ]
     },
     "execution_count": 19,
     "metadata": {},
     "output_type": "execute_result"
    }
   ],
   "source": [
    "# All of the columns in this dataframe are ready to go except host_response_time which needs to be ordinal encoded\n",
    "df['host_response_time'].value_counts()"
   ]
  },
  {
   "cell_type": "code",
   "execution_count": 20,
   "id": "8413cce9-15a3-4401-b5bd-5388603760e2",
   "metadata": {},
   "outputs": [],
   "source": [
    "ordinal_encoding = {'within an hour': 0, 'within a few hours': 1, 'within a day': 2, 'a few days or more': 3}\n",
    "\n",
    "# Map the values in the 'host_response_time' column to their ordinal encoding\n",
    "df['host_response_time_encoded'] = df['host_response_time'].map(ordinal_encoding)"
   ]
  },
  {
   "cell_type": "code",
   "execution_count": 21,
   "id": "d2022170-deb4-4c86-9d17-144ce2333a99",
   "metadata": {},
   "outputs": [
    {
     "name": "stdout",
     "output_type": "stream",
     "text": [
      "Mean Squared Error (Linear Regression): 9325.434233710608\n",
      "R-squared (Linear Regression): 0.21078797725892573\n"
     ]
    }
   ],
   "source": [
    "X = df.drop(columns=['price', 'host_response_time'])\n",
    "y = df['price']\n",
    "\n",
    "# Split the data into training and testing sets\n",
    "X_train, X_test, y_train, y_test = train_test_split(X, y, test_size=0.2, random_state=42)\n",
    "\n",
    "# Scale the features\n",
    "scaler = StandardScaler()\n",
    "X_train_scaled = scaler.fit_transform(X_train)\n",
    "X_test_scaled = scaler.transform(X_test)\n",
    "\n",
    "# Define parameter grid for Linear Regression\n",
    "param_grid_lr = {\n",
    "    'fit_intercept': [True, False],\n",
    "    'positive': [True, False]\n",
    "}\n",
    "\n",
    "# Initialize Linear Regression model\n",
    "lr_model = LinearRegression()\n",
    "\n",
    "# Perform Grid Search with 5-fold Cross-Validation for Linear Regression\n",
    "grid_search_lr = GridSearchCV(estimator=lr_model, param_grid=param_grid_lr, cv=5, scoring='r2')\n",
    "grid_search_lr.fit(X_train_scaled, y_train)\n",
    "\n",
    "# Get best Linear Regression model from grid search\n",
    "best_lr_model = grid_search_lr.best_estimator_\n",
    "\n",
    "# Predict on the scaled test set using the best Linear Regression model\n",
    "y_pred_lr = best_lr_model.predict(X_test_scaled)\n",
    "\n",
    "# Calculate mean squared error\n",
    "mse_lr = mean_squared_error(y_test, y_pred_lr)\n",
    "print(\"Mean Squared Error (Linear Regression):\", mse_lr)\n",
    "\n",
    "# Calculate R-squared score\n",
    "r2_lr = r2_score(y_test, y_pred_lr)\n",
    "print(\"R-squared (Linear Regression):\", r2_lr)"
   ]
  },
  {
   "cell_type": "markdown",
   "id": "33542ff0-7fde-49ae-b696-67ee0754c4b8",
   "metadata": {},
   "source": [
    "An R-squared score of 0.21 indicates that approximately 21% of the variance in Airbnb prices can be explained by the predictors included in our model. This suggests that while our model captures some of the factors influencing Airbnb prices, there are still other many unaccounted variables contributing to the variability in prices."
   ]
  },
  {
   "cell_type": "markdown",
   "id": "e830b9f6-74f2-452d-9812-992da429e0f9",
   "metadata": {},
   "source": [
    "# Random Forest Regression (RFR)"
   ]
  },
  {
   "cell_type": "code",
   "execution_count": 22,
   "id": "e2877f6c-85dc-4e55-a343-42f6b5978990",
   "metadata": {},
   "outputs": [
    {
     "name": "stdout",
     "output_type": "stream",
     "text": [
      "R-squared (Random Forest): 0.21216177264397096\n",
      "R-squared (Gradient Boosting): 0.14607777287241186\n"
     ]
    }
   ],
   "source": [
    "# Initialize Random Forest Regressor\n",
    "rf_model = RandomForestRegressor(random_state=42)\n",
    "\n",
    "# Define hyperparameters grid for Random Forest\n",
    "param_grid_rf = {\n",
    "    'n_estimators': [100, 200, 300],\n",
    "    'max_depth': [None, 10, 20],\n",
    "    'min_samples_split': [2, 5, 10],\n",
    "    'min_samples_leaf': [1, 2, 4]\n",
    "}\n",
    "\n",
    "# Perform Grid Search with 5-fold Cross-Validation for Random Forest\n",
    "grid_search_rf = GridSearchCV(estimator=rf_model, param_grid=param_grid_rf, cv=5, scoring='r2')\n",
    "grid_search_rf.fit(X_train_scaled, y_train)\n",
    "\n",
    "# Get best Random Forest model from grid search\n",
    "best_rf_model = grid_search_rf.best_estimator_\n",
    "\n",
    "# Initialize Gradient Boosting Regressor\n",
    "gb_model = GradientBoostingRegressor(random_state=42)\n",
    "\n",
    "# Define hyperparameters grid for Gradient Boosting\n",
    "param_grid_gb = {\n",
    "    'n_estimators': [100, 200, 300],\n",
    "    'learning_rate': [0.01, 0.1, 0.5],\n",
    "    'max_depth': [3, 5, 7]\n",
    "}\n",
    "\n",
    "# Perform Grid Search with 5-fold Cross-Validation for Gradient Boosting\n",
    "grid_search_gb = GridSearchCV(estimator=gb_model, param_grid=param_grid_gb, cv=5, scoring='r2')\n",
    "grid_search_gb.fit(X_train_scaled, y_train)\n",
    "\n",
    "# Get best Gradient Boosting model from grid search\n",
    "best_gb_model = grid_search_gb.best_estimator_\n",
    "\n",
    "# Predict on the scaled test set using the best Random Forest model\n",
    "y_pred_rf = best_rf_model.predict(X_test_scaled)\n",
    "\n",
    "# Calculate R-squared score for Random Forest\n",
    "r2_rf = r2_score(y_test, y_pred_rf)\n",
    "print(\"R-squared (Random Forest):\", r2_rf)\n",
    "\n",
    "# Predict on the scaled test set using the best Gradient Boosting model\n",
    "y_pred_gb = best_gb_model.predict(X_test_scaled)\n",
    "\n",
    "# Calculate R-squared score for Gradient Boosting\n",
    "r2_gb = r2_score(y_test, y_pred_gb)\n",
    "print(\"R-squared (Gradient Boosting):\", r2_gb)"
   ]
  },
  {
   "cell_type": "markdown",
   "id": "87c11515-d860-40f1-bcd0-3ff06a0ff8b6",
   "metadata": {},
   "source": [
    "Despite gradient boosting and gridsearching and using best hyperparameters, we end up with only a R-squared scores of 0.21 and 0.15 again. Just as before, we can determine there are other predictors which would predict price better than the ones we have."
   ]
  },
  {
   "cell_type": "markdown",
   "id": "d5c4901f-6504-4f5d-ade4-50ddd1bcb0ce",
   "metadata": {},
   "source": [
    "# Neural Network Regression (NNR)"
   ]
  },
  {
   "cell_type": "code",
   "execution_count": null,
   "id": "aaf6279b-cb3f-4c4b-918a-9bb823f7b453",
   "metadata": {},
   "outputs": [],
   "source": []
  }
 ],
 "metadata": {
  "kernelspec": {
   "display_name": "Python 3",
   "language": "python",
   "name": "python3"
  },
  "language_info": {
   "codemirror_mode": {
    "name": "ipython",
    "version": 3
   },
   "file_extension": ".py",
   "mimetype": "text/x-python",
   "name": "python",
   "nbconvert_exporter": "python",
   "pygments_lexer": "ipython3",
   "version": "3.8.8"
  }
 },
 "nbformat": 4,
 "nbformat_minor": 5
}
